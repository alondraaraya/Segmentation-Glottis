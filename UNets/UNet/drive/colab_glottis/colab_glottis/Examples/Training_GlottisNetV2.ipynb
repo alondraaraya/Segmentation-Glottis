{
 "cells": [
  {
   "cell_type": "code",
   "execution_count": 1,
   "id": "46a85878",
   "metadata": {
    "scrolled": true
   },
   "outputs": [],
   "source": [
    " #!pip install numpy pandas tqdm scikit-learn segmentation-models tensorflow-addons "
   ]
  },
  {
   "cell_type": "code",
   "execution_count": 2,
   "id": "d5a6a1f9",
   "metadata": {},
   "outputs": [],
   "source": [
    "#!pip install albumentations --user"
   ]
  },
  {
   "cell_type": "code",
   "execution_count": 1,
   "id": "f29722f7",
   "metadata": {
    "scrolled": true
   },
   "outputs": [
    {
     "name": "stderr",
     "output_type": "stream",
     "text": [
      "2024-10-10 17:05:14.985167: I tensorflow/core/platform/cpu_feature_guard.cc:193] This TensorFlow binary is optimized with oneAPI Deep Neural Network Library (oneDNN) to use the following CPU instructions in performance-critical operations:  AVX2 AVX_VNNI FMA\n",
      "To enable them in other operations, rebuild TensorFlow with the appropriate compiler flags.\n",
      "2024-10-10 17:05:15.038312: I tensorflow/core/util/util.cc:169] oneDNN custom operations are on. You may see slightly different numerical results due to floating-point round-off errors from different computation orders. To turn them off, set the environment variable `TF_ENABLE_ONEDNN_OPTS=0`.\n",
      "2024-10-10 17:05:15.054587: E tensorflow/stream_executor/cuda/cuda_blas.cc:2981] Unable to register cuBLAS factory: Attempting to register factory for plugin cuBLAS when one has already been registered\n",
      "2024-10-10 17:05:15.420483: W tensorflow/stream_executor/platform/default/dso_loader.cc:64] Could not load dynamic library 'libnvinfer.so.7'; dlerror: libnvinfer.so.7: cannot open shared object file: No such file or directory; LD_LIBRARY_PATH: /usr/local/cuda-11.2/targets/x86_64-linux/lib:\n",
      "2024-10-10 17:05:15.420511: W tensorflow/stream_executor/platform/default/dso_loader.cc:64] Could not load dynamic library 'libnvinfer_plugin.so.7'; dlerror: libnvinfer_plugin.so.7: cannot open shared object file: No such file or directory; LD_LIBRARY_PATH: /usr/local/cuda-11.2/targets/x86_64-linux/lib:\n",
      "2024-10-10 17:05:15.420514: W tensorflow/compiler/tf2tensorrt/utils/py_utils.cc:38] TF-TRT Warning: Cannot dlopen some TensorRT libraries. If you would like to use Nvidia GPU with TensorRT, please make sure the missing libraries mentioned above are installed properly.\n"
     ]
    },
    {
     "name": "stdout",
     "output_type": "stream",
     "text": [
      "2.10.0\n",
      "WARNING:tensorflow:From /tmp/ipykernel_148650/825740916.py:4: is_gpu_available (from tensorflow.python.framework.test_util) is deprecated and will be removed in a future version.\n",
      "Instructions for updating:\n",
      "Use `tf.config.list_physical_devices('GPU')` instead.\n",
      "GPU Available:  False\n"
     ]
    },
    {
     "name": "stderr",
     "output_type": "stream",
     "text": [
      "2024-10-10 17:05:15.856481: I tensorflow/core/platform/cpu_feature_guard.cc:193] This TensorFlow binary is optimized with oneAPI Deep Neural Network Library (oneDNN) to use the following CPU instructions in performance-critical operations:  AVX2 AVX_VNNI FMA\n",
      "To enable them in other operations, rebuild TensorFlow with the appropriate compiler flags.\n",
      "2024-10-10 17:05:15.871543: I tensorflow/stream_executor/cuda/cuda_gpu_executor.cc:980] successful NUMA node read from SysFS had negative value (-1), but there must be at least one NUMA node, so returning NUMA node zero\n",
      "2024-10-10 17:05:15.875931: W tensorflow/stream_executor/platform/default/dso_loader.cc:64] Could not load dynamic library 'libcudnn.so.8'; dlerror: libcudnn.so.8: cannot open shared object file: No such file or directory; LD_LIBRARY_PATH: /usr/local/cuda-11.2/targets/x86_64-linux/lib:\n",
      "2024-10-10 17:05:15.875941: W tensorflow/core/common_runtime/gpu/gpu_device.cc:1934] Cannot dlopen some GPU libraries. Please make sure the missing libraries mentioned above are installed properly if you would like to use GPU. Follow the guide at https://www.tensorflow.org/install/gpu for how to download and setup the required libraries for your platform.\n",
      "Skipping registering GPU devices...\n",
      "2024-10-10 17:05:15.957569: I tensorflow/stream_executor/cuda/cuda_gpu_executor.cc:980] successful NUMA node read from SysFS had negative value (-1), but there must be at least one NUMA node, so returning NUMA node zero\n",
      "2024-10-10 17:05:15.958407: W tensorflow/core/common_runtime/gpu/gpu_device.cc:1934] Cannot dlopen some GPU libraries. Please make sure the missing libraries mentioned above are installed properly if you would like to use GPU. Follow the guide at https://www.tensorflow.org/install/gpu for how to download and setup the required libraries for your platform.\n",
      "Skipping registering GPU devices...\n"
     ]
    },
    {
     "name": "stdout",
     "output_type": "stream",
     "text": [
      "GPU Available:  False\n",
      "Tiempo de ejecución en la GPU: 1.271162748336792 segundos\n",
      "GPUs disponibles:  []\n"
     ]
    },
    {
     "name": "stderr",
     "output_type": "stream",
     "text": [
      "2024-10-10 17:05:17.440227: I tensorflow/stream_executor/cuda/cuda_gpu_executor.cc:980] successful NUMA node read from SysFS had negative value (-1), but there must be at least one NUMA node, so returning NUMA node zero\n",
      "2024-10-10 17:05:17.441105: W tensorflow/core/common_runtime/gpu/gpu_device.cc:1934] Cannot dlopen some GPU libraries. Please make sure the missing libraries mentioned above are installed properly if you would like to use GPU. Follow the guide at https://www.tensorflow.org/install/gpu for how to download and setup the required libraries for your platform.\n",
      "Skipping registering GPU devices...\n"
     ]
    }
   ],
   "source": [
    "import tensorflow as tf\n",
    "import time\n",
    "print(tf.__version__)\n",
    "print('GPU Available: ', tf.test.is_gpu_available())\n",
    "\n",
    "\n",
    "# Forzar una operación para comprobar el uso de la GPU\n",
    "with tf.device('/GPU:0'):\n",
    "    a = tf.random.normal([10000, 10000])\n",
    "    b = tf.random.normal([10000, 10000])\n",
    "    start_time = time.time()\n",
    "    c = tf.matmul(a, b)\n",
    "    end_time = time.time()\n",
    "    print('GPU Available: ', tf.test.is_gpu_available())\n",
    "\n",
    "\n",
    "print(f\"Tiempo de ejecución en la GPU: {end_time - start_time} segundos\")\n",
    "print(\"GPUs disponibles: \", tf.config.list_physical_devices('GPU'))\n",
    "\n",
    "\n"
   ]
  },
  {
   "cell_type": "code",
   "execution_count": 4,
   "id": "91af4172",
   "metadata": {
    "id": "91af4172"
   },
   "outputs": [
    {
     "name": "stderr",
     "output_type": "stream",
     "text": [
      "/home/voicelab/miniconda3/envs/tmpenv/lib/python3.11/site-packages/tensorflow_addons/utils/tfa_eol_msg.py:23: UserWarning: \n",
      "\n",
      "TensorFlow Addons (TFA) has ended development and introduction of new features.\n",
      "TFA has entered a minimal maintenance and release mode until a planned end of life in May 2024.\n",
      "Please modify downstream libraries to take dependencies from other repositories in our TensorFlow community (e.g. Keras, Keras-CV, and Keras-NLP). \n",
      "\n",
      "For more information see: https://github.com/tensorflow/addons/issues/2807 \n",
      "\n",
      "  warnings.warn(\n"
     ]
    },
    {
     "name": "stdout",
     "output_type": "stream",
     "text": [
      "Segmentation Models: using `tf.keras` framework.\n"
     ]
    },
    {
     "name": "stderr",
     "output_type": "stream",
     "text": [
      "/home/voicelab/miniconda3/envs/tmpenv/lib/python3.11/site-packages/albumentations/__init__.py:13: UserWarning: A new version of Albumentations is available: 1.4.16 (you have 1.4.14). Upgrade using: pip install -U albumentations. To disable automatic update checks, set the environment variable NO_ALBUMENTATIONS_UPDATE to 1.\n",
      "  check_for_updates()\n"
     ]
    }
   ],
   "source": [
    "import tensorflow as tf\n",
    "import os\n",
    "import sys\n",
    "os.environ['SM_FRAMEWORK'] = 'tf.keras'\n",
    "import numpy as np\n",
    "import pandas as pd\n",
    "import random\n",
    "from tqdm.notebook import tqdm\n",
    "\n",
    "from sklearn.model_selection import train_test_split\n",
    "from segmentation_models.losses import dice_loss\n",
    "from segmentation_models.metrics import iou_score\n",
    "\n",
    "module_path = \"/home/voicelab/Desktop/segmentation_glottis/UNet/drive/colab_glottis/colab_glottis/GlottisNetV2\"\n",
    "if module_path not in sys.path:\n",
    "    sys.path.append(module_path)\n",
    "#Drive\n",
    "#from drive.MyDrive.Glottis.colab_glottis.GlottisNetV2.Utils.DataGenerator import DataGenerator\n",
    "#from drive.MyDrive.Glottis.colab_glottis.GlottisNetV2.Utils.data import load_data, metric_mape, mape_ap, mape_pp\n",
    "#from drive.MyDrive.Glottis.colab_glottis.GlottisNetV2.Utils.Callbacks import get_callbacks\n",
    "#from drive.MyDrive.Glottis.colab_glottis.GlottisNetV2.Models.GlottisNetV2_e import glottisnetV2_e\n",
    "\n",
    "from Models.GlottisNetV2_e import glottisnetV2_e\n",
    "from Utils.DataGenerator_onlySeg import DataGenerator\n",
    "from Utils.data import load_data, metric_mape, mape_ap, mape_pp\n",
    "from Utils.Callbacks import get_callbacks\n",
    "\n",
    "import warnings\n",
    "warnings.simplefilter(action='ignore', category=FutureWarning)"
   ]
  },
  {
   "cell_type": "code",
   "execution_count": 5,
   "id": "16061812",
   "metadata": {
    "id": "16061812",
    "scrolled": true,
    "tags": []
   },
   "outputs": [
    {
     "name": "stderr",
     "output_type": "stream",
     "text": [
      "100%|███████████████████████████████████████████████████████████████████████████████████████████████████████████████| 55750/55750 [00:48<00:00, 1145.08it/s]"
     ]
    },
    {
     "name": "stdout",
     "output_type": "stream",
     "text": [
      "       z                                               path\n",
      "0  55745  /home/voicelab/Desktop/segmentation_glottis/BA...\n",
      "0  55746  /home/voicelab/Desktop/segmentation_glottis/BA...\n",
      "0  55747  /home/voicelab/Desktop/segmentation_glottis/BA...\n",
      "0  55748  /home/voicelab/Desktop/segmentation_glottis/BA...\n",
      "0  55749  /home/voicelab/Desktop/segmentation_glottis/BA...\n",
      "       z                                               path\n",
      "0  55745  /home/voicelab/Desktop/segmentation_glottis/BA...\n",
      "0  55746  /home/voicelab/Desktop/segmentation_glottis/BA...\n",
      "0  55747  /home/voicelab/Desktop/segmentation_glottis/BA...\n",
      "0  55748  /home/voicelab/Desktop/segmentation_glottis/BA...\n",
      "0  55749  /home/voicelab/Desktop/segmentation_glottis/BA...\n",
      "Created IDs for training images.\n"
     ]
    },
    {
     "name": "stderr",
     "output_type": "stream",
     "text": [
      "\n"
     ]
    }
   ],
   "source": [
    "import pandas as pd\n",
    "import os\n",
    "\n",
    "from tqdm import tqdm\n",
    "\n",
    "def is_image_valid(image_path):\n",
    "    return os.path.getsize(image_path) > 0\n",
    "\n",
    "img_training = \"/home/voicelab/Desktop/segmentation_glottis/BAGLS_ROI/training\" # TODO\n",
    "\n",
    "N_train = 55750\n",
    "\n",
    "cols = ['z', 'path']\n",
    "df_imgs_train = pd.DataFrame(columns=cols)\n",
    "df_segs_train = pd.DataFrame(columns=cols)\n",
    "\n",
    "for i in tqdm(range(0, N_train )):  # Asegúrate de que el rango esté correctamente definido\n",
    "    rgb_path = os.path.join(img_training, f\"{i}.png\")\n",
    "    mask_path = os.path.join(img_training, f\"{i}_seg.png\")\n",
    "\n",
    "    # Solo agrega las rutas si tanto la imagen como la máscara son válidas\n",
    "    if os.path.exists(rgb_path) and os.path.exists(mask_path) and is_image_valid(rgb_path) and is_image_valid(mask_path):\n",
    "        row_imgs = {'z': [i], 'path': [rgb_path]}\n",
    "        row_segs = {'z': [i], 'path': [mask_path]}\n",
    "\n",
    "        df_imgs_train = pd.concat([df_imgs_train, pd.DataFrame(row_imgs)])\n",
    "        df_segs_train = pd.concat([df_segs_train, pd.DataFrame(row_segs)])\n",
    "    else:\n",
    "        print(f\"Omitiendo debido a imagen/máscara inválida o inexistente: {rgb_path}, {mask_path}\")\n",
    "\n",
    "print(df_imgs_train.tail())\n",
    "print(df_segs_train.tail())\n",
    "\n",
    "print('Created IDs for training images.')\n"
   ]
  },
  {
   "cell_type": "code",
   "execution_count": 6,
   "id": "954d126d",
   "metadata": {
    "id": "954d126d"
   },
   "outputs": [
    {
     "name": "stdout",
     "output_type": "stream",
     "text": [
      "Epoch 1/30\n"
     ]
    },
    {
     "name": "stderr",
     "output_type": "stream",
     "text": [
      "2024-09-24 22:53:06.587795: I external/local_tsl/tsl/platform/default/subprocess.cc:304] Start cannot spawn child process: No such file or directory\n"
     ]
    },
    {
     "name": "stdout",
     "output_type": "stream",
     "text": [
      "WARNING:tensorflow:Gradients do not exist for variables ['instance_normalization_18/gamma:0', 'instance_normalization_18/beta:0', 'instance_normalization_19/gamma:0', 'instance_normalization_19/beta:0', 'instance_normalization_20/gamma:0', 'instance_normalization_20/beta:0', 'instance_normalization_21/gamma:0', 'instance_normalization_21/beta:0', 'instance_normalization_22/gamma:0', 'instance_normalization_22/beta:0', 'instance_normalization_23/gamma:0', 'instance_normalization_23/beta:0', 'instance_normalization_24/gamma:0', 'instance_normalization_24/beta:0', 'instance_normalization_25/gamma:0', 'instance_normalization_25/beta:0', 'instance_normalization_26/gamma:0', 'instance_normalization_26/beta:0', 'ap_pred/kernel:0'] when minimizing the loss. If you're using `model.compile()`, did you forget to provide a `loss` argument?\n",
      "WARNING:tensorflow:Gradients do not exist for variables ['instance_normalization_18/gamma:0', 'instance_normalization_18/beta:0', 'instance_normalization_19/gamma:0', 'instance_normalization_19/beta:0', 'instance_normalization_20/gamma:0', 'instance_normalization_20/beta:0', 'instance_normalization_21/gamma:0', 'instance_normalization_21/beta:0', 'instance_normalization_22/gamma:0', 'instance_normalization_22/beta:0', 'instance_normalization_23/gamma:0', 'instance_normalization_23/beta:0', 'instance_normalization_24/gamma:0', 'instance_normalization_24/beta:0', 'instance_normalization_25/gamma:0', 'instance_normalization_25/beta:0', 'instance_normalization_26/gamma:0', 'instance_normalization_26/beta:0', 'ap_pred/kernel:0'] when minimizing the loss. If you're using `model.compile()`, did you forget to provide a `loss` argument?\n",
      "WARNING:tensorflow:Gradients do not exist for variables ['instance_normalization_18/gamma:0', 'instance_normalization_18/beta:0', 'instance_normalization_19/gamma:0', 'instance_normalization_19/beta:0', 'instance_normalization_20/gamma:0', 'instance_normalization_20/beta:0', 'instance_normalization_21/gamma:0', 'instance_normalization_21/beta:0', 'instance_normalization_22/gamma:0', 'instance_normalization_22/beta:0', 'instance_normalization_23/gamma:0', 'instance_normalization_23/beta:0', 'instance_normalization_24/gamma:0', 'instance_normalization_24/beta:0', 'instance_normalization_25/gamma:0', 'instance_normalization_25/beta:0', 'instance_normalization_26/gamma:0', 'instance_normalization_26/beta:0', 'ap_pred/kernel:0'] when minimizing the loss. If you're using `model.compile()`, did you forget to provide a `loss` argument?\n",
      "WARNING:tensorflow:Gradients do not exist for variables ['instance_normalization_18/gamma:0', 'instance_normalization_18/beta:0', 'instance_normalization_19/gamma:0', 'instance_normalization_19/beta:0', 'instance_normalization_20/gamma:0', 'instance_normalization_20/beta:0', 'instance_normalization_21/gamma:0', 'instance_normalization_21/beta:0', 'instance_normalization_22/gamma:0', 'instance_normalization_22/beta:0', 'instance_normalization_23/gamma:0', 'instance_normalization_23/beta:0', 'instance_normalization_24/gamma:0', 'instance_normalization_24/beta:0', 'instance_normalization_25/gamma:0', 'instance_normalization_25/beta:0', 'instance_normalization_26/gamma:0', 'instance_normalization_26/beta:0', 'ap_pred/kernel:0'] when minimizing the loss. If you're using `model.compile()`, did you forget to provide a `loss` argument?\n"
     ]
    },
    {
     "name": "stderr",
     "output_type": "stream",
     "text": [
      "2024-09-24 22:53:09.763365: I external/local_xla/xla/stream_executor/cuda/cuda_dnn.cc:454] Loaded cuDNN version 8902\n",
      "2024-09-24 22:53:09.806859: I external/local_tsl/tsl/platform/default/subprocess.cc:304] Start cannot spawn child process: No such file or directory\n",
      "2024-09-24 22:53:10.812773: I external/local_xla/xla/service/service.cc:168] XLA service 0x7d7e633cd600 initialized for platform CUDA (this does not guarantee that XLA will be used). Devices:\n",
      "2024-09-24 22:53:10.812789: I external/local_xla/xla/service/service.cc:176]   StreamExecutor device (0): NVIDIA GeForce RTX 4080 SUPER, Compute Capability 8.9\n",
      "2024-09-24 22:53:10.815426: I tensorflow/compiler/mlir/tensorflow/utils/dump_mlir_util.cc:269] disabling MLIR crash reproducer, set env var `MLIR_CRASH_REPRODUCER_DIRECTORY` to enable.\n",
      "WARNING: All log messages before absl::InitializeLog() is called are written to STDERR\n",
      "I0000 00:00:1727229190.866487  922362 device_compiler.h:186] Compiled cluster using XLA!  This line is logged at most once for the lifetime of the process.\n"
     ]
    },
    {
     "name": "stdout",
     "output_type": "stream",
     "text": [
      "   4/6271 [..............................] - ETA: 1:48 - loss: 0.9112 - seg_loss: 0.9112 - seg_acc: 0.3336 - seg_iou_score: 0.0466    WARNING:tensorflow:Callback method `on_train_batch_end` is slow compared to the batch time (batch time: 0.0124s vs `on_train_batch_end` time: 0.0555s). Check your callbacks.\n",
      "6271/6271 [==============================] - ETA: 0s - loss: 0.5776 - seg_loss: 0.5776 - seg_acc: 0.9047 - seg_iou_score: 0.2733WARNING:tensorflow:Can save best model only with val_ap_pred_metric_mape3D available, skipping.\n",
      "WARNING:tensorflow:Early stopping conditioned on metric `val_iou_score` which is not available. Available metrics are: loss,seg_loss,seg_acc,seg_iou_score,val_loss,val_seg_loss,val_seg_acc,val_seg_iou_score\n",
      "6271/6271 [==============================] - 112s 17ms/step - loss: 0.5776 - seg_loss: 0.5776 - seg_acc: 0.9047 - seg_iou_score: 0.2733 - val_loss: 0.5314 - val_seg_loss: 0.5314 - val_seg_acc: 0.9249 - val_seg_iou_score: 0.3105\n",
      "Epoch 2/30\n",
      "   5/6271 [..............................] - ETA: 1:25 - loss: 0.4785 - seg_loss: 0.4785 - seg_acc: 0.9279 - seg_iou_score: 0.3584"
     ]
    },
    {
     "name": "stderr",
     "output_type": "stream",
     "text": [
      "/home/voicelab/miniconda3/envs/tmpenv/lib/python3.11/site-packages/keras/src/engine/training.py:3103: UserWarning: You are saving your model as an HDF5 file via `model.save()`. This file format is considered legacy. We recommend using instead the native Keras format, e.g. `model.save('my_model.keras')`.\n",
      "  saving_api.save_model(\n"
     ]
    },
    {
     "name": "stdout",
     "output_type": "stream",
     "text": [
      "6271/6271 [==============================] - ETA: 0s - loss: 0.5359 - seg_loss: 0.5359 - seg_acc: 0.9214 - seg_iou_score: 0.3064WARNING:tensorflow:Can save best model only with val_ap_pred_metric_mape3D available, skipping.\n",
      "WARNING:tensorflow:Early stopping conditioned on metric `val_iou_score` which is not available. Available metrics are: loss,seg_loss,seg_acc,seg_iou_score,val_loss,val_seg_loss,val_seg_acc,val_seg_iou_score\n",
      "6271/6271 [==============================] - 101s 16ms/step - loss: 0.5359 - seg_loss: 0.5359 - seg_acc: 0.9214 - seg_iou_score: 0.3064 - val_loss: 0.5245 - val_seg_loss: 0.5245 - val_seg_acc: 0.9235 - val_seg_iou_score: 0.3164\n",
      "Epoch 3/30\n",
      "6269/6271 [============================>.] - ETA: 0s - loss: 0.5345 - seg_loss: 0.5345 - seg_acc: 0.9219 - seg_iou_score: 0.3075WARNING:tensorflow:Can save best model only with val_ap_pred_metric_mape3D available, skipping.\n",
      "WARNING:tensorflow:Early stopping conditioned on metric `val_iou_score` which is not available. Available metrics are: loss,seg_loss,seg_acc,seg_iou_score,val_loss,val_seg_loss,val_seg_acc,val_seg_iou_score\n",
      "6271/6271 [==============================] - 98s 16ms/step - loss: 0.5345 - seg_loss: 0.5345 - seg_acc: 0.9219 - seg_iou_score: 0.3076 - val_loss: 0.5334 - val_seg_loss: 0.5334 - val_seg_acc: 0.9236 - val_seg_iou_score: 0.3086\n",
      "Epoch 4/30\n",
      "6269/6271 [============================>.] - ETA: 0s - loss: 0.5337 - seg_loss: 0.5337 - seg_acc: 0.9223 - seg_iou_score: 0.3083WARNING:tensorflow:Can save best model only with val_ap_pred_metric_mape3D available, skipping.\n",
      "WARNING:tensorflow:Early stopping conditioned on metric `val_iou_score` which is not available. Available metrics are: loss,seg_loss,seg_acc,seg_iou_score,val_loss,val_seg_loss,val_seg_acc,val_seg_iou_score\n",
      "6271/6271 [==============================] - 101s 16ms/step - loss: 0.5337 - seg_loss: 0.5337 - seg_acc: 0.9223 - seg_iou_score: 0.3082 - val_loss: 0.5323 - val_seg_loss: 0.5323 - val_seg_acc: 0.9242 - val_seg_iou_score: 0.3096\n",
      "Epoch 5/30\n",
      "6269/6271 [============================>.] - ETA: 0s - loss: 0.5337 - seg_loss: 0.5337 - seg_acc: 0.9222 - seg_iou_score: 0.3084WARNING:tensorflow:Can save best model only with val_ap_pred_metric_mape3D available, skipping.\n",
      "WARNING:tensorflow:Early stopping conditioned on metric `val_iou_score` which is not available. Available metrics are: loss,seg_loss,seg_acc,seg_iou_score,val_loss,val_seg_loss,val_seg_acc,val_seg_iou_score\n",
      "6271/6271 [==============================] - 104s 17ms/step - loss: 0.5337 - seg_loss: 0.5337 - seg_acc: 0.9222 - seg_iou_score: 0.3084 - val_loss: 0.5345 - val_seg_loss: 0.5345 - val_seg_acc: 0.9233 - val_seg_iou_score: 0.3078\n",
      "Epoch 6/30\n",
      "6269/6271 [============================>.] - ETA: 0s - loss: 0.5331 - seg_loss: 0.5331 - seg_acc: 0.9225 - seg_iou_score: 0.3088WARNING:tensorflow:Can save best model only with val_ap_pred_metric_mape3D available, skipping.\n",
      "WARNING:tensorflow:Early stopping conditioned on metric `val_iou_score` which is not available. Available metrics are: loss,seg_loss,seg_acc,seg_iou_score,val_loss,val_seg_loss,val_seg_acc,val_seg_iou_score\n",
      "6271/6271 [==============================] - 103s 16ms/step - loss: 0.5332 - seg_loss: 0.5332 - seg_acc: 0.9225 - seg_iou_score: 0.3088 - val_loss: 0.5355 - val_seg_loss: 0.5355 - val_seg_acc: 0.9208 - val_seg_iou_score: 0.3068\n",
      "Epoch 7/30\n",
      "6270/6271 [============================>.] - ETA: 0s - loss: 0.5329 - seg_loss: 0.5329 - seg_acc: 0.9225 - seg_iou_score: 0.3088WARNING:tensorflow:Can save best model only with val_ap_pred_metric_mape3D available, skipping.\n",
      "WARNING:tensorflow:Early stopping conditioned on metric `val_iou_score` which is not available. Available metrics are: loss,seg_loss,seg_acc,seg_iou_score,val_loss,val_seg_loss,val_seg_acc,val_seg_iou_score\n",
      "6271/6271 [==============================] - 101s 16ms/step - loss: 0.5330 - seg_loss: 0.5330 - seg_acc: 0.9224 - seg_iou_score: 0.3088 - val_loss: 0.5317 - val_seg_loss: 0.5317 - val_seg_acc: 0.9240 - val_seg_iou_score: 0.3101\n",
      "Epoch 8/30\n",
      "6269/6271 [============================>.] - ETA: 0s - loss: 0.5327 - seg_loss: 0.5327 - seg_acc: 0.9226 - seg_iou_score: 0.3092WARNING:tensorflow:Can save best model only with val_ap_pred_metric_mape3D available, skipping.\n",
      "WARNING:tensorflow:Early stopping conditioned on metric `val_iou_score` which is not available. Available metrics are: loss,seg_loss,seg_acc,seg_iou_score,val_loss,val_seg_loss,val_seg_acc,val_seg_iou_score\n",
      "6271/6271 [==============================] - 97s 16ms/step - loss: 0.5327 - seg_loss: 0.5327 - seg_acc: 0.9226 - seg_iou_score: 0.3092 - val_loss: 0.5403 - val_seg_loss: 0.5403 - val_seg_acc: 0.9213 - val_seg_iou_score: 0.3028\n",
      "Epoch 9/30\n",
      "6271/6271 [==============================] - ETA: 0s - loss: 0.5323 - seg_loss: 0.5323 - seg_acc: 0.9226 - seg_iou_score: 0.3094WARNING:tensorflow:Can save best model only with val_ap_pred_metric_mape3D available, skipping.\n",
      "WARNING:tensorflow:Early stopping conditioned on metric `val_iou_score` which is not available. Available metrics are: loss,seg_loss,seg_acc,seg_iou_score,val_loss,val_seg_loss,val_seg_acc,val_seg_iou_score\n",
      "6271/6271 [==============================] - 90s 14ms/step - loss: 0.5323 - seg_loss: 0.5323 - seg_acc: 0.9226 - seg_iou_score: 0.3094 - val_loss: 0.5300 - val_seg_loss: 0.5300 - val_seg_acc: 0.9246 - val_seg_iou_score: 0.3116\n",
      "Epoch 10/30\n",
      "6269/6271 [============================>.] - ETA: 0s - loss: 0.5326 - seg_loss: 0.5326 - seg_acc: 0.9228 - seg_iou_score: 0.3093WARNING:tensorflow:Can save best model only with val_ap_pred_metric_mape3D available, skipping.\n",
      "WARNING:tensorflow:Early stopping conditioned on metric `val_iou_score` which is not available. Available metrics are: loss,seg_loss,seg_acc,seg_iou_score,val_loss,val_seg_loss,val_seg_acc,val_seg_iou_score\n",
      "6271/6271 [==============================] - 90s 14ms/step - loss: 0.5325 - seg_loss: 0.5325 - seg_acc: 0.9228 - seg_iou_score: 0.3093 - val_loss: 0.5360 - val_seg_loss: 0.5360 - val_seg_acc: 0.9219 - val_seg_iou_score: 0.3064\n",
      "Epoch 11/30\n",
      "6268/6271 [============================>.] - ETA: 0s - loss: 0.5324 - seg_loss: 0.5324 - seg_acc: 0.9228 - seg_iou_score: 0.3095WARNING:tensorflow:Can save best model only with val_ap_pred_metric_mape3D available, skipping.\n",
      "WARNING:tensorflow:Early stopping conditioned on metric `val_iou_score` which is not available. Available metrics are: loss,seg_loss,seg_acc,seg_iou_score,val_loss,val_seg_loss,val_seg_acc,val_seg_iou_score\n",
      "6271/6271 [==============================] - 89s 14ms/step - loss: 0.5324 - seg_loss: 0.5324 - seg_acc: 0.9228 - seg_iou_score: 0.3095 - val_loss: 0.5365 - val_seg_loss: 0.5365 - val_seg_acc: 0.9220 - val_seg_iou_score: 0.3060\n",
      "Epoch 12/30\n",
      "6268/6271 [============================>.] - ETA: 0s - loss: 0.5323 - seg_loss: 0.5323 - seg_acc: 0.9228 - seg_iou_score: 0.3095WARNING:tensorflow:Can save best model only with val_ap_pred_metric_mape3D available, skipping.\n",
      "WARNING:tensorflow:Early stopping conditioned on metric `val_iou_score` which is not available. Available metrics are: loss,seg_loss,seg_acc,seg_iou_score,val_loss,val_seg_loss,val_seg_acc,val_seg_iou_score\n",
      "6271/6271 [==============================] - 88s 14ms/step - loss: 0.5323 - seg_loss: 0.5323 - seg_acc: 0.9228 - seg_iou_score: 0.3095 - val_loss: 0.5332 - val_seg_loss: 0.5332 - val_seg_acc: 0.9229 - val_seg_iou_score: 0.3088\n",
      "Epoch 13/30\n",
      "6269/6271 [============================>.] - ETA: 0s - loss: 0.5322 - seg_loss: 0.5322 - seg_acc: 0.9228 - seg_iou_score: 0.3096WARNING:tensorflow:Can save best model only with val_ap_pred_metric_mape3D available, skipping.\n",
      "WARNING:tensorflow:Early stopping conditioned on metric `val_iou_score` which is not available. Available metrics are: loss,seg_loss,seg_acc,seg_iou_score,val_loss,val_seg_loss,val_seg_acc,val_seg_iou_score\n",
      "6271/6271 [==============================] - 87s 14ms/step - loss: 0.5322 - seg_loss: 0.5322 - seg_acc: 0.9228 - seg_iou_score: 0.3096 - val_loss: 0.5352 - val_seg_loss: 0.5352 - val_seg_acc: 0.9237 - val_seg_iou_score: 0.3071\n",
      "Epoch 14/30\n",
      "6268/6271 [============================>.] - ETA: 0s - loss: 0.5321 - seg_loss: 0.5321 - seg_acc: 0.9229 - seg_iou_score: 0.3096WARNING:tensorflow:Can save best model only with val_ap_pred_metric_mape3D available, skipping.\n",
      "WARNING:tensorflow:Early stopping conditioned on metric `val_iou_score` which is not available. Available metrics are: loss,seg_loss,seg_acc,seg_iou_score,val_loss,val_seg_loss,val_seg_acc,val_seg_iou_score\n",
      "6271/6271 [==============================] - 90s 14ms/step - loss: 0.5321 - seg_loss: 0.5321 - seg_acc: 0.9229 - seg_iou_score: 0.3097 - val_loss: 0.5368 - val_seg_loss: 0.5368 - val_seg_acc: 0.9225 - val_seg_iou_score: 0.3057\n",
      "Epoch 15/30\n",
      "6271/6271 [==============================] - ETA: 0s - loss: 0.5320 - seg_loss: 0.5320 - seg_acc: 0.9229 - seg_iou_score: 0.3097WARNING:tensorflow:Can save best model only with val_ap_pred_metric_mape3D available, skipping.\n",
      "WARNING:tensorflow:Early stopping conditioned on metric `val_iou_score` which is not available. Available metrics are: loss,seg_loss,seg_acc,seg_iou_score,val_loss,val_seg_loss,val_seg_acc,val_seg_iou_score\n",
      "6271/6271 [==============================] - 90s 14ms/step - loss: 0.5320 - seg_loss: 0.5320 - seg_acc: 0.9229 - seg_iou_score: 0.3097 - val_loss: 0.5327 - val_seg_loss: 0.5327 - val_seg_acc: 0.9233 - val_seg_iou_score: 0.3093\n",
      "Epoch 16/30\n",
      "6269/6271 [============================>.] - ETA: 0s - loss: 0.5323 - seg_loss: 0.5323 - seg_acc: 0.9229 - seg_iou_score: 0.3096WARNING:tensorflow:Can save best model only with val_ap_pred_metric_mape3D available, skipping.\n",
      "WARNING:tensorflow:Early stopping conditioned on metric `val_iou_score` which is not available. Available metrics are: loss,seg_loss,seg_acc,seg_iou_score,val_loss,val_seg_loss,val_seg_acc,val_seg_iou_score\n",
      "6271/6271 [==============================] - 88s 14ms/step - loss: 0.5323 - seg_loss: 0.5323 - seg_acc: 0.9229 - seg_iou_score: 0.3096 - val_loss: 0.5307 - val_seg_loss: 0.5307 - val_seg_acc: 0.9232 - val_seg_iou_score: 0.3110\n",
      "Epoch 17/30\n",
      "6269/6271 [============================>.] - ETA: 0s - loss: 0.5324 - seg_loss: 0.5324 - seg_acc: 0.9229 - seg_iou_score: 0.3095WARNING:tensorflow:Can save best model only with val_ap_pred_metric_mape3D available, skipping.\n",
      "WARNING:tensorflow:Early stopping conditioned on metric `val_iou_score` which is not available. Available metrics are: loss,seg_loss,seg_acc,seg_iou_score,val_loss,val_seg_loss,val_seg_acc,val_seg_iou_score\n",
      "6271/6271 [==============================] - 90s 14ms/step - loss: 0.5324 - seg_loss: 0.5324 - seg_acc: 0.9229 - seg_iou_score: 0.3095 - val_loss: 0.5374 - val_seg_loss: 0.5374 - val_seg_acc: 0.9231 - val_seg_iou_score: 0.3052\n",
      "Epoch 18/30\n",
      "6270/6271 [============================>.] - ETA: 0s - loss: 0.5320 - seg_loss: 0.5320 - seg_acc: 0.9229 - seg_iou_score: 0.3097WARNING:tensorflow:Can save best model only with val_ap_pred_metric_mape3D available, skipping.\n",
      "WARNING:tensorflow:Early stopping conditioned on metric `val_iou_score` which is not available. Available metrics are: loss,seg_loss,seg_acc,seg_iou_score,val_loss,val_seg_loss,val_seg_acc,val_seg_iou_score\n",
      "6271/6271 [==============================] - 89s 14ms/step - loss: 0.5320 - seg_loss: 0.5320 - seg_acc: 0.9229 - seg_iou_score: 0.3097 - val_loss: 0.5331 - val_seg_loss: 0.5331 - val_seg_acc: 0.9232 - val_seg_iou_score: 0.3090\n",
      "Epoch 19/30\n",
      "6271/6271 [==============================] - ETA: 0s - loss: 0.5326 - seg_loss: 0.5326 - seg_acc: 0.9227 - seg_iou_score: 0.3093WARNING:tensorflow:Can save best model only with val_ap_pred_metric_mape3D available, skipping.\n",
      "WARNING:tensorflow:Early stopping conditioned on metric `val_iou_score` which is not available. Available metrics are: loss,seg_loss,seg_acc,seg_iou_score,val_loss,val_seg_loss,val_seg_acc,val_seg_iou_score\n",
      "6271/6271 [==============================] - 87s 14ms/step - loss: 0.5326 - seg_loss: 0.5326 - seg_acc: 0.9227 - seg_iou_score: 0.3093 - val_loss: 0.5397 - val_seg_loss: 0.5397 - val_seg_acc: 0.9224 - val_seg_iou_score: 0.3032\n",
      "Epoch 20/30\n",
      "6271/6271 [==============================] - ETA: 0s - loss: 0.5320 - seg_loss: 0.5320 - seg_acc: 0.9230 - seg_iou_score: 0.3097WARNING:tensorflow:Can save best model only with val_ap_pred_metric_mape3D available, skipping.\n",
      "WARNING:tensorflow:Early stopping conditioned on metric `val_iou_score` which is not available. Available metrics are: loss,seg_loss,seg_acc,seg_iou_score,val_loss,val_seg_loss,val_seg_acc,val_seg_iou_score\n",
      "6271/6271 [==============================] - 89s 14ms/step - loss: 0.5320 - seg_loss: 0.5320 - seg_acc: 0.9230 - seg_iou_score: 0.3097 - val_loss: 0.5337 - val_seg_loss: 0.5337 - val_seg_acc: 0.9220 - val_seg_iou_score: 0.3085\n",
      "Epoch 21/30\n",
      "6268/6271 [============================>.] - ETA: 0s - loss: 0.5319 - seg_loss: 0.5319 - seg_acc: 0.9229 - seg_iou_score: 0.3099WARNING:tensorflow:Can save best model only with val_ap_pred_metric_mape3D available, skipping.\n",
      "WARNING:tensorflow:Early stopping conditioned on metric `val_iou_score` which is not available. Available metrics are: loss,seg_loss,seg_acc,seg_iou_score,val_loss,val_seg_loss,val_seg_acc,val_seg_iou_score\n",
      "6271/6271 [==============================] - 90s 14ms/step - loss: 0.5320 - seg_loss: 0.5320 - seg_acc: 0.9229 - seg_iou_score: 0.3098 - val_loss: 0.5361 - val_seg_loss: 0.5361 - val_seg_acc: 0.9224 - val_seg_iou_score: 0.3063\n",
      "Epoch 22/30\n",
      "6269/6271 [============================>.] - ETA: 0s - loss: 0.5319 - seg_loss: 0.5319 - seg_acc: 0.9230 - seg_iou_score: 0.3099WARNING:tensorflow:Can save best model only with val_ap_pred_metric_mape3D available, skipping.\n",
      "WARNING:tensorflow:Early stopping conditioned on metric `val_iou_score` which is not available. Available metrics are: loss,seg_loss,seg_acc,seg_iou_score,val_loss,val_seg_loss,val_seg_acc,val_seg_iou_score\n",
      "6271/6271 [==============================] - 88s 14ms/step - loss: 0.5319 - seg_loss: 0.5319 - seg_acc: 0.9230 - seg_iou_score: 0.3099 - val_loss: 0.5357 - val_seg_loss: 0.5357 - val_seg_acc: 0.9227 - val_seg_iou_score: 0.3066\n",
      "Epoch 23/30\n",
      "6271/6271 [==============================] - ETA: 0s - loss: 0.5319 - seg_loss: 0.5319 - seg_acc: 0.9229 - seg_iou_score: 0.3098WARNING:tensorflow:Can save best model only with val_ap_pred_metric_mape3D available, skipping.\n",
      "WARNING:tensorflow:Early stopping conditioned on metric `val_iou_score` which is not available. Available metrics are: loss,seg_loss,seg_acc,seg_iou_score,val_loss,val_seg_loss,val_seg_acc,val_seg_iou_score\n",
      "6271/6271 [==============================] - 87s 14ms/step - loss: 0.5319 - seg_loss: 0.5319 - seg_acc: 0.9229 - seg_iou_score: 0.3098 - val_loss: 0.5345 - val_seg_loss: 0.5345 - val_seg_acc: 0.9234 - val_seg_iou_score: 0.3077\n",
      "Epoch 24/30\n",
      "6270/6271 [============================>.] - ETA: 0s - loss: 0.5319 - seg_loss: 0.5319 - seg_acc: 0.9230 - seg_iou_score: 0.3099WARNING:tensorflow:Can save best model only with val_ap_pred_metric_mape3D available, skipping.\n",
      "WARNING:tensorflow:Early stopping conditioned on metric `val_iou_score` which is not available. Available metrics are: loss,seg_loss,seg_acc,seg_iou_score,val_loss,val_seg_loss,val_seg_acc,val_seg_iou_score\n",
      "6271/6271 [==============================] - 87s 14ms/step - loss: 0.5319 - seg_loss: 0.5319 - seg_acc: 0.9230 - seg_iou_score: 0.3099 - val_loss: 0.5334 - val_seg_loss: 0.5334 - val_seg_acc: 0.9213 - val_seg_iou_score: 0.3087\n",
      "Epoch 25/30\n",
      "6270/6271 [============================>.] - ETA: 0s - loss: 0.5320 - seg_loss: 0.5320 - seg_acc: 0.9229 - seg_iou_score: 0.3099WARNING:tensorflow:Can save best model only with val_ap_pred_metric_mape3D available, skipping.\n",
      "WARNING:tensorflow:Early stopping conditioned on metric `val_iou_score` which is not available. Available metrics are: loss,seg_loss,seg_acc,seg_iou_score,val_loss,val_seg_loss,val_seg_acc,val_seg_iou_score\n",
      "6271/6271 [==============================] - 89s 14ms/step - loss: 0.5320 - seg_loss: 0.5320 - seg_acc: 0.9229 - seg_iou_score: 0.3099 - val_loss: 0.5408 - val_seg_loss: 0.5408 - val_seg_acc: 0.9222 - val_seg_iou_score: 0.3023\n",
      "Epoch 26/30\n",
      "6268/6271 [============================>.] - ETA: 0s - loss: 0.5319 - seg_loss: 0.5319 - seg_acc: 0.9229 - seg_iou_score: 0.3098WARNING:tensorflow:Can save best model only with val_ap_pred_metric_mape3D available, skipping.\n",
      "WARNING:tensorflow:Early stopping conditioned on metric `val_iou_score` which is not available. Available metrics are: loss,seg_loss,seg_acc,seg_iou_score,val_loss,val_seg_loss,val_seg_acc,val_seg_iou_score\n",
      "6271/6271 [==============================] - 87s 14ms/step - loss: 0.5319 - seg_loss: 0.5319 - seg_acc: 0.9229 - seg_iou_score: 0.3098 - val_loss: 0.5351 - val_seg_loss: 0.5351 - val_seg_acc: 0.9225 - val_seg_iou_score: 0.3072\n",
      "Epoch 27/30\n",
      "6271/6271 [==============================] - ETA: 0s - loss: 0.5315 - seg_loss: 0.5315 - seg_acc: 0.9229 - seg_iou_score: 0.3101WARNING:tensorflow:Can save best model only with val_ap_pred_metric_mape3D available, skipping.\n",
      "WARNING:tensorflow:Early stopping conditioned on metric `val_iou_score` which is not available. Available metrics are: loss,seg_loss,seg_acc,seg_iou_score,val_loss,val_seg_loss,val_seg_acc,val_seg_iou_score\n",
      "6271/6271 [==============================] - 87s 14ms/step - loss: 0.5315 - seg_loss: 0.5315 - seg_acc: 0.9229 - seg_iou_score: 0.3101 - val_loss: 0.5421 - val_seg_loss: 0.5421 - val_seg_acc: 0.9237 - val_seg_iou_score: 0.3010\n",
      "Epoch 28/30\n",
      "6268/6271 [============================>.] - ETA: 0s - loss: 0.5318 - seg_loss: 0.5318 - seg_acc: 0.9231 - seg_iou_score: 0.3099WARNING:tensorflow:Can save best model only with val_ap_pred_metric_mape3D available, skipping.\n",
      "WARNING:tensorflow:Early stopping conditioned on metric `val_iou_score` which is not available. Available metrics are: loss,seg_loss,seg_acc,seg_iou_score,val_loss,val_seg_loss,val_seg_acc,val_seg_iou_score\n",
      "6271/6271 [==============================] - 89s 14ms/step - loss: 0.5318 - seg_loss: 0.5318 - seg_acc: 0.9231 - seg_iou_score: 0.3099 - val_loss: 0.5343 - val_seg_loss: 0.5343 - val_seg_acc: 0.9244 - val_seg_iou_score: 0.3078\n",
      "Epoch 29/30\n",
      "6269/6271 [============================>.] - ETA: 0s - loss: 0.5315 - seg_loss: 0.5315 - seg_acc: 0.9231 - seg_iou_score: 0.3100WARNING:tensorflow:Can save best model only with val_ap_pred_metric_mape3D available, skipping.\n",
      "WARNING:tensorflow:Early stopping conditioned on metric `val_iou_score` which is not available. Available metrics are: loss,seg_loss,seg_acc,seg_iou_score,val_loss,val_seg_loss,val_seg_acc,val_seg_iou_score\n",
      "6271/6271 [==============================] - 88s 14ms/step - loss: 0.5316 - seg_loss: 0.5316 - seg_acc: 0.9231 - seg_iou_score: 0.3100 - val_loss: 0.5357 - val_seg_loss: 0.5357 - val_seg_acc: 0.9231 - val_seg_iou_score: 0.3066\n",
      "Epoch 30/30\n",
      "6271/6271 [==============================] - ETA: 0s - loss: 0.5316 - seg_loss: 0.5316 - seg_acc: 0.9231 - seg_iou_score: 0.3100WARNING:tensorflow:Can save best model only with val_ap_pred_metric_mape3D available, skipping.\n",
      "WARNING:tensorflow:Early stopping conditioned on metric `val_iou_score` which is not available. Available metrics are: loss,seg_loss,seg_acc,seg_iou_score,val_loss,val_seg_loss,val_seg_acc,val_seg_iou_score\n",
      "6271/6271 [==============================] - 87s 14ms/step - loss: 0.5316 - seg_loss: 0.5316 - seg_acc: 0.9231 - seg_iou_score: 0.3100 - val_loss: 0.5338 - val_seg_loss: 0.5338 - val_seg_acc: 0.9229 - val_seg_iou_score: 0.3083\n"
     ]
    },
    {
     "data": {
      "text/plain": [
       "<keras.src.callbacks.History at 0x7d85c823b910>"
      ]
     },
     "execution_count": 6,
     "metadata": {},
     "output_type": "execute_result"
    }
   ],
   "source": [
    "from tensorflow.keras.models import load_model\n",
    "\n",
    "'''Training'''\n",
    "# Set random seed for reproducible training\n",
    "SEED = 42\n",
    "os.environ['PYTHONHASHSEED'] = str(SEED)\n",
    "rand=np.random.seed(SEED)\n",
    "random.seed(SEED)\n",
    "tf.compat.v1.set_random_seed(SEED)\n",
    "\n",
    "# Set parameters\n",
    "BATCH_SIZE = 8\n",
    "FILTERS = 16\n",
    "LAYERS= 4\n",
    "LEARNING_RATE = 0.2e-3\n",
    "EPOCHS = 30\n",
    "TARGET_HEIGHT = 128\n",
    "TARGET_WIDTH = 256\n",
    "SHUFFLE = True\n",
    "AUGMENT = False\n",
    "MODEL_PATH = r\"/home/voicelab/Desktop/segmentation_glottis/UNet/model/model128.h5\" #TODO\n",
    "STEPS_PATH = r\"/home/voicelab/Desktop/segmentation_glottis/UNet/model/steps128\" #TODO\n",
    "N_STEPS = 5 # Save every #N_STEPS epoch\n",
    "RADIUS = 15\n",
    "\n",
    "model = glottisnetV2_e(input_size=(TARGET_HEIGHT, TARGET_WIDTH, 1), layers=LAYERS, filters=FILTERS)\n",
    "\n",
    "# Hard split of training and validation data\n",
    "train_imgs, val_imgs, train_segs, val_segs = train_test_split(df_imgs_train,\n",
    "                                                              df_segs_train,\n",
    "                                                              test_size = 0.1,\n",
    "                                                              random_state = SEED)\n",
    "\n",
    "\n",
    "# Training data --> Augmentation and Shuffle\n",
    "#training_generator = DataGenerator(train_imgs, train_segs, batch_size = BATCH_SIZE, target_height = TARGET_HEIGHT, \\\n",
    "                                   #target_width = TARGET_WIDTH, shuffle = SHUFFLE, df_coordinates = training_data, \\\n",
    "                                   #augment = AUGMENT, radius=RADIUS)\n",
    "training_generator = DataGenerator(train_imgs, train_segs, batch_size = BATCH_SIZE, target_height = TARGET_HEIGHT, \\\n",
    "                                   target_width = TARGET_WIDTH, shuffle = SHUFFLE, augment = AUGMENT, radius=RADIUS)\n",
    "# Validation data\n",
    "validation_generator = DataGenerator(val_imgs, val_segs, target_height = TARGET_HEIGHT, \\\n",
    "                                     target_width = TARGET_WIDTH, batch_size = BATCH_SIZE, shuffle = False, \\\n",
    "                                    augment = False, radius=RADIUS)\n",
    "#validation_generator = DataGenerator(val_imgs, val_segs, target_height = TARGET_HEIGHT, \\\n",
    "                                     #target_width = TARGET_WIDTH, batch_size = BATCH_SIZE, shuffle = False, \\\n",
    "                                     #df_coordinates = training_data, augment = False, radius=RADIUS)\n",
    "# Compile model with dice_loss for segmentation, mse for prediction maps and use Adam as optimizer\n",
    "# First exit: predictions of anterior and posterior points (2 channels)\n",
    "# Second exit: Segmentations\n",
    "\n",
    "for layer in model.layers:\n",
    "    if 'decode_ap' in layer.name or 'ap.pred' in layer.name:\n",
    "        layer.trainable = False\n",
    "\n",
    "\n",
    "\n",
    "model.compile(optimizer=tf.keras.optimizers.Adam(learning_rate=LEARNING_RATE),\n",
    "              metrics={'seg': ['acc', iou_score]},\n",
    "              loss={'seg': dice_loss})\n",
    "\n",
    "\n",
    "# Train model on dataset and save it\n",
    "model.fit(training_generator, validation_data= validation_generator, epochs = EPOCHS,\n",
    "                    callbacks = get_callbacks(MODEL_PATH, model, N_STEPS, STEPS_PATH))\n"
   ]
  },
  {
   "cell_type": "code",
   "execution_count": 3,
   "id": "9cf099a0",
   "metadata": {},
   "outputs": [
    {
     "name": "stdout",
     "output_type": "stream",
     "text": [
      "GPU no disponible\n"
     ]
    }
   ],
   "source": [
    "import tensorflow as tf\n",
    "\n",
    "if tf.config.list_physical_devices('GPU'):\n",
    "    with tf.device('/GPU:0'):\n",
    "        # Tu código para probar la GPU aquí\n",
    "        a = tf.random.normal([100, 100])\n",
    "        b = tf.random.normal([100, 100])\n",
    "        c = tf.matmul(a, b)\n",
    "        print(c)\n",
    "else:\n",
    "    print(\"GPU no disponible\")\n"
   ]
  },
  {
   "cell_type": "code",
   "execution_count": null,
   "id": "6da7c4aa",
   "metadata": {},
   "outputs": [],
   "source": []
  }
 ],
 "metadata": {
  "colab": {
   "provenance": []
  },
  "interpreter": {
   "hash": "ab9ad1b762d22614dfe02aceadf5b4c0b83e595e73a1a2b3522cafd6b3a0cf39"
  },
  "kernelspec": {
   "display_name": "Python 3 (ipykernel)",
   "language": "python",
   "name": "python3"
  },
  "language_info": {
   "codemirror_mode": {
    "name": "ipython",
    "version": 3
   },
   "file_extension": ".py",
   "mimetype": "text/x-python",
   "name": "python",
   "nbconvert_exporter": "python",
   "pygments_lexer": "ipython3",
   "version": "3.9.18"
  }
 },
 "nbformat": 4,
 "nbformat_minor": 5
}

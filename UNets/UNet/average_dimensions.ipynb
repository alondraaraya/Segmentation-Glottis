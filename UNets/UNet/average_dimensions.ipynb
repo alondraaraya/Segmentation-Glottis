{
 "cells": [
  {
   "cell_type": "code",
   "execution_count": 1,
   "id": "7b15a8d0-9ad5-4212-b565-3407e79efcac",
   "metadata": {},
   "outputs": [],
   "source": [
    "import os\n",
    "import cv2\n",
    "\n",
    "def get_average_image_dimensions(image_dir):\n",
    "    total_width = 0\n",
    "    total_height = 0\n",
    "    count = 0\n",
    "\n",
    "    # Recorre todos los archivos en la carpeta\n",
    "    for image_file in os.listdir(image_dir):\n",
    "        if image_file.endswith(\".png\"):\n",
    "            image_path = os.path.join(image_dir, image_file)\n",
    "            image = cv2.imread(image_path)\n",
    "\n",
    "            if image is not None:\n",
    "                height, width = image.shape[:2]\n",
    "                total_width += width\n",
    "                total_height += height\n",
    "                count += 1\n",
    "\n",
    "    if count > 0:\n",
    "        avg_width = total_width / count\n",
    "        avg_height = total_height / count\n",
    "        print(f\"Promedio de dimensiones: {avg_width} x {avg_height}\")\n",
    "    else:\n",
    "        print(\"No se encontraron imágenes PNG en la carpeta.\")\n",
    "\n"
   ]
  },
  {
   "cell_type": "code",
   "execution_count": 2,
   "id": "f91fde2f-9fc2-47c3-a9ca-1aa4803c2f4a",
   "metadata": {},
   "outputs": [
    {
     "name": "stdout",
     "output_type": "stream",
     "text": [
      "Promedio de dimensiones: 75.82857142857142 x 149.44285714285715\n"
     ]
    }
   ],
   "source": [
    "# Ejemplo de uso:\n",
    "image_dir = '/home/voicelab/Desktop/segmentation_glottis/ROI/YOLOv8/dataset/images/val'\n",
    "get_average_image_dimensions(image_dir)\n"
   ]
  },
  {
   "cell_type": "code",
   "execution_count": null,
   "id": "39fadf3b-d1ff-486c-bf20-bd19441a9977",
   "metadata": {},
   "outputs": [],
   "source": []
  }
 ],
 "metadata": {
  "kernelspec": {
   "display_name": "Python 3 (ipykernel)",
   "language": "python",
   "name": "python3"
  },
  "language_info": {
   "codemirror_mode": {
    "name": "ipython",
    "version": 3
   },
   "file_extension": ".py",
   "mimetype": "text/x-python",
   "name": "python",
   "nbconvert_exporter": "python",
   "pygments_lexer": "ipython3",
   "version": "3.11.9"
  }
 },
 "nbformat": 4,
 "nbformat_minor": 5
}
